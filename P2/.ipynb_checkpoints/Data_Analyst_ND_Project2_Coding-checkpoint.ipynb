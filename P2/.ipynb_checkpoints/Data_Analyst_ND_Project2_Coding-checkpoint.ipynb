{
 "cells": [
  {
   "cell_type": "markdown",
   "metadata": {},
   "source": [
    "##References\n",
    "- [histograms with matplotlib.pyplot](http://pandas.pydata.org/pandas-docs/stable/visualization.html)\n",
    "- [scipy.stats.mannwhitneyu](http://docs.scipy.org/doc/scipy/reference/generated/scipy.stats.mannwhitneyu.html)\n",
    "- [numpy.mean](http://docs.scipy.org/doc/numpy/reference/generated/numpy.mean.html)\n"
   ]
  },
  {
   "cell_type": "code",
   "execution_count": 34,
   "metadata": {
    "collapsed": false
   },
   "outputs": [
    {
     "data": {
      "text/html": [
       "<div>\n",
       "<table border=\"1\" class=\"dataframe\">\n",
       "  <thead>\n",
       "    <tr style=\"text-align: right;\">\n",
       "      <th></th>\n",
       "      <th>Unnamed: 0</th>\n",
       "      <th>UNIT</th>\n",
       "      <th>DATEn</th>\n",
       "      <th>TIMEn</th>\n",
       "      <th>Hour</th>\n",
       "      <th>DESCn</th>\n",
       "      <th>ENTRIESn_hourly</th>\n",
       "      <th>EXITSn_hourly</th>\n",
       "      <th>maxpressurei</th>\n",
       "      <th>maxdewpti</th>\n",
       "      <th>...</th>\n",
       "      <th>meandewpti</th>\n",
       "      <th>meanpressurei</th>\n",
       "      <th>fog</th>\n",
       "      <th>rain</th>\n",
       "      <th>meanwindspdi</th>\n",
       "      <th>mintempi</th>\n",
       "      <th>meantempi</th>\n",
       "      <th>maxtempi</th>\n",
       "      <th>precipi</th>\n",
       "      <th>thunder</th>\n",
       "    </tr>\n",
       "  </thead>\n",
       "  <tbody>\n",
       "    <tr>\n",
       "      <th>0</th>\n",
       "      <td>0</td>\n",
       "      <td>R001</td>\n",
       "      <td>2011-05-01</td>\n",
       "      <td>01:00:00</td>\n",
       "      <td>1</td>\n",
       "      <td>REGULAR</td>\n",
       "      <td>0</td>\n",
       "      <td>0</td>\n",
       "      <td>30.31</td>\n",
       "      <td>42</td>\n",
       "      <td>...</td>\n",
       "      <td>39</td>\n",
       "      <td>30.27</td>\n",
       "      <td>0</td>\n",
       "      <td>0</td>\n",
       "      <td>5</td>\n",
       "      <td>50</td>\n",
       "      <td>60</td>\n",
       "      <td>69</td>\n",
       "      <td>0</td>\n",
       "      <td>0</td>\n",
       "    </tr>\n",
       "    <tr>\n",
       "      <th>1</th>\n",
       "      <td>1</td>\n",
       "      <td>R001</td>\n",
       "      <td>2011-05-01</td>\n",
       "      <td>05:00:00</td>\n",
       "      <td>5</td>\n",
       "      <td>REGULAR</td>\n",
       "      <td>217</td>\n",
       "      <td>553</td>\n",
       "      <td>30.31</td>\n",
       "      <td>42</td>\n",
       "      <td>...</td>\n",
       "      <td>39</td>\n",
       "      <td>30.27</td>\n",
       "      <td>0</td>\n",
       "      <td>0</td>\n",
       "      <td>5</td>\n",
       "      <td>50</td>\n",
       "      <td>60</td>\n",
       "      <td>69</td>\n",
       "      <td>0</td>\n",
       "      <td>0</td>\n",
       "    </tr>\n",
       "    <tr>\n",
       "      <th>2</th>\n",
       "      <td>2</td>\n",
       "      <td>R001</td>\n",
       "      <td>2011-05-01</td>\n",
       "      <td>09:00:00</td>\n",
       "      <td>9</td>\n",
       "      <td>REGULAR</td>\n",
       "      <td>890</td>\n",
       "      <td>1262</td>\n",
       "      <td>30.31</td>\n",
       "      <td>42</td>\n",
       "      <td>...</td>\n",
       "      <td>39</td>\n",
       "      <td>30.27</td>\n",
       "      <td>0</td>\n",
       "      <td>0</td>\n",
       "      <td>5</td>\n",
       "      <td>50</td>\n",
       "      <td>60</td>\n",
       "      <td>69</td>\n",
       "      <td>0</td>\n",
       "      <td>0</td>\n",
       "    </tr>\n",
       "    <tr>\n",
       "      <th>3</th>\n",
       "      <td>3</td>\n",
       "      <td>R001</td>\n",
       "      <td>2011-05-01</td>\n",
       "      <td>13:00:00</td>\n",
       "      <td>13</td>\n",
       "      <td>REGULAR</td>\n",
       "      <td>2451</td>\n",
       "      <td>3708</td>\n",
       "      <td>30.31</td>\n",
       "      <td>42</td>\n",
       "      <td>...</td>\n",
       "      <td>39</td>\n",
       "      <td>30.27</td>\n",
       "      <td>0</td>\n",
       "      <td>0</td>\n",
       "      <td>5</td>\n",
       "      <td>50</td>\n",
       "      <td>60</td>\n",
       "      <td>69</td>\n",
       "      <td>0</td>\n",
       "      <td>0</td>\n",
       "    </tr>\n",
       "    <tr>\n",
       "      <th>4</th>\n",
       "      <td>4</td>\n",
       "      <td>R001</td>\n",
       "      <td>2011-05-01</td>\n",
       "      <td>17:00:00</td>\n",
       "      <td>17</td>\n",
       "      <td>REGULAR</td>\n",
       "      <td>4400</td>\n",
       "      <td>2501</td>\n",
       "      <td>30.31</td>\n",
       "      <td>42</td>\n",
       "      <td>...</td>\n",
       "      <td>39</td>\n",
       "      <td>30.27</td>\n",
       "      <td>0</td>\n",
       "      <td>0</td>\n",
       "      <td>5</td>\n",
       "      <td>50</td>\n",
       "      <td>60</td>\n",
       "      <td>69</td>\n",
       "      <td>0</td>\n",
       "      <td>0</td>\n",
       "    </tr>\n",
       "  </tbody>\n",
       "</table>\n",
       "<p>5 rows × 22 columns</p>\n",
       "</div>"
      ],
      "text/plain": [
       "   Unnamed: 0  UNIT       DATEn     TIMEn  Hour    DESCn  ENTRIESn_hourly  \\\n",
       "0           0  R001  2011-05-01  01:00:00     1  REGULAR                0   \n",
       "1           1  R001  2011-05-01  05:00:00     5  REGULAR              217   \n",
       "2           2  R001  2011-05-01  09:00:00     9  REGULAR              890   \n",
       "3           3  R001  2011-05-01  13:00:00    13  REGULAR             2451   \n",
       "4           4  R001  2011-05-01  17:00:00    17  REGULAR             4400   \n",
       "\n",
       "   EXITSn_hourly  maxpressurei  maxdewpti   ...     meandewpti  meanpressurei  \\\n",
       "0              0         30.31         42   ...             39          30.27   \n",
       "1            553         30.31         42   ...             39          30.27   \n",
       "2           1262         30.31         42   ...             39          30.27   \n",
       "3           3708         30.31         42   ...             39          30.27   \n",
       "4           2501         30.31         42   ...             39          30.27   \n",
       "\n",
       "   fog  rain  meanwindspdi  mintempi  meantempi  maxtempi  precipi  thunder  \n",
       "0    0     0             5        50         60        69        0        0  \n",
       "1    0     0             5        50         60        69        0        0  \n",
       "2    0     0             5        50         60        69        0        0  \n",
       "3    0     0             5        50         60        69        0        0  \n",
       "4    0     0             5        50         60        69        0        0  \n",
       "\n",
       "[5 rows x 22 columns]"
      ]
     },
     "execution_count": 34,
     "metadata": {},
     "output_type": "execute_result"
    }
   ],
   "source": [
    "import numpy as np\n",
    "import pandas\n",
    "from datetime import datetime\n",
    "from sklearn.linear_model import SGDRegressor\n",
    "import scipy\n",
    "import scipy.stats\n",
    "\n",
    "filename = 'turnstile_data_master_with_weather.csv'\n",
    "\n",
    "dataFrame = pandas.read_csv(filename)\n",
    "dataFrame.head()\n",
    "\n"
   ]
  },
  {
   "cell_type": "markdown",
   "metadata": {},
   "source": [
    "###Data Wrangling"
   ]
  },
  {
   "cell_type": "markdown",
   "metadata": {},
   "source": [
    "    You can read a bit about using matplotlib and pandas to plot histograms here\n",
    "    [histograms](http://pandas.pydata.org/pandas-docs/stable/visualization.html)\n",
    "    "
   ]
  },
  {
   "cell_type": "markdown",
   "metadata": {},
   "source": [
    "##Histgram with pyplot"
   ]
  },
  {
   "cell_type": "code",
   "execution_count": 15,
   "metadata": {
    "collapsed": false
   },
   "outputs": [
    {
     "data": {
      "text/plain": [
       "<module 'matplotlib.pyplot' from 'C:\\Users\\Yukiko\\Anaconda\\lib\\site-packages\\matplotlib\\pyplot.pyc'>"
      ]
     },
     "execution_count": 15,
     "metadata": {},
     "output_type": "execute_result"
    }
   ],
   "source": [
    "import matplotlib.pyplot as plt\n",
    "\n",
    "def entries_histogram(turnstile_weather):\n",
    "   \n",
    "    plt.figure()\n",
    "    turnstile_weather['ENTRIESn_hourly'][(turnstile_weather['rain'] == 0) & (turnstile_weather['ENTRIESn_hourly'] < 6000)].hist(bins=20)\n",
    "    turnstile_weather['ENTRIESn_hourly'][(turnstile_weather['rain'] == 1) & (turnstile_weather['ENTRIESn_hourly'] < 6000)].hist(bins=20)\n",
    "    plt.show()\n",
    "    \n",
    "    return plt\n",
    "\n",
    "entries_histogram(dataFrame)\n"
   ]
  },
  {
   "cell_type": "markdown",
   "metadata": {},
   "source": [
    "## Mann-Whitney U-Test"
   ]
  },
  {
   "cell_type": "code",
   "execution_count": 25,
   "metadata": {
    "collapsed": false
   },
   "outputs": [
    {
     "name": "stdout",
     "output_type": "stream",
     "text": [
      "with_rain_mean 1105.44637675\n",
      "without_rain_mean 1090.27878015\n",
      "U-value 1924409167.0\n",
      "P-value 0.0193096344138\n"
     ]
    }
   ],
   "source": [
    "def mann_whitney_plus_means(turnstile_weather):\n",
    "\n",
    "    wr = turnstile_weather['ENTRIESn_hourly'][(turnstile_weather['rain'] == 1)]\n",
    "    wor = turnstile_weather['ENTRIESn_hourly'][(turnstile_weather['rain'] == 0)]\n",
    "    with_rain_mean = np.mean(wr)\n",
    "    without_rain_mean = np.mean(wor)\n",
    "    U, p = scipy.stats.mannwhitneyu(wr,wor)\n",
    "    return with_rain_mean, without_rain_mean, U, p\n",
    "\n",
    "with_rain_mean, without_rain_mean, U, p = mann_whitney_plus_means(dataFrame)\n",
    "\n",
    "print 'with_rain_mean', with_rain_mean\n",
    "print 'without_rain_mean', without_rain_mean\n",
    "print 'U-value', U\n",
    "print 'P-value', p"
   ]
  },
  {
   "cell_type": "code",
   "execution_count": 35,
   "metadata": {
    "collapsed": false
   },
   "outputs": [
    {
     "name": "stdout",
     "output_type": "stream",
     "text": [
      "intercept 1305.80000779\n",
      "params Hour            67.394149\n",
      "meandewpti      -1.596967\n",
      "meantempi       -5.835822\n",
      "rain            18.496049\n",
      "unit_R001     2429.967750\n",
      "unit_R002     -633.183375\n",
      "unit_R003    -1331.235845\n",
      "unit_R004    -1006.127824\n",
      "unit_R005    -1018.179281\n",
      "unit_R006     -946.497149\n",
      "unit_R007    -1168.188969\n",
      "unit_R008    -1134.156751\n",
      "unit_R009    -1204.703744\n",
      "unit_R010     3030.900572\n",
      "unit_R011     6514.677608\n",
      "unit_R012     5953.077744\n",
      "unit_R013      965.364608\n",
      "unit_R014     2487.409915\n",
      "unit_R015      626.962649\n",
      "unit_R016     -565.055724\n",
      "unit_R017     2710.012758\n",
      "unit_R018     4418.466024\n",
      "unit_R019     1379.553462\n",
      "unit_R020     4981.461980\n",
      "unit_R021     2948.054917\n",
      "unit_R022     7108.086728\n",
      "unit_R023     5027.030251\n",
      "unit_R024     1508.110875\n",
      "unit_R025     3514.087255\n",
      "unit_R027     1428.898886\n",
      "                 ...     \n",
      "unit_R450    -1030.156338\n",
      "unit_R451     -605.865629\n",
      "unit_R452     4215.245217\n",
      "unit_R453      315.751981\n",
      "unit_R454    -1341.439712\n",
      "unit_R455    -1394.749754\n",
      "unit_R456    -1268.614959\n",
      "unit_R459    -1412.229010\n",
      "unit_R460       16.212742\n",
      "unit_R461     1565.068762\n",
      "unit_R462      498.164987\n",
      "unit_R463     1581.661395\n",
      "unit_R464    -1538.668116\n",
      "unit_R468    -1078.410904\n",
      "unit_R469    -1075.255345\n",
      "unit_R535    -1083.839261\n",
      "unit_R536    -1069.804302\n",
      "unit_R540    -1367.778364\n",
      "unit_R541    -1474.606615\n",
      "unit_R542    -1494.506662\n",
      "unit_R543    -1531.148874\n",
      "unit_R544    -1544.685383\n",
      "unit_R545    -1495.474703\n",
      "unit_R546    -1356.963300\n",
      "unit_R547    -1462.470854\n",
      "unit_R548    -1427.957037\n",
      "unit_R549    -1568.798036\n",
      "unit_R550    -1530.538739\n",
      "unit_R551    -1503.108917\n",
      "unit_R552    -1438.299662\n",
      "dtype: float64\n"
     ]
    }
   ],
   "source": [
    "import numpy as np\n",
    "import pandas\n",
    "import statsmodels.api as sm\n",
    "\n",
    "def linear_regression(features, values):\n",
    "\n",
    "    features = sm.add_constant(features)\n",
    "    model = sm.OLS(values, features)\n",
    "    results = model.fit()\n",
    "    params = results.params\n",
    "    intercept = results.params[0]\n",
    "    params = results.params[1:]\n",
    "    \n",
    "    return intercept, params\n",
    "\n",
    "def predictions(dataframe):\n",
    "    features = dataframe[['Hour', 'meandewpti', 'meantempi', 'rain']]\n",
    "    dummy_units = pandas.get_dummies(dataframe['UNIT'], prefix='unit')\n",
    "    features = features.join(dummy_units)\n",
    "    \n",
    "    # Values\n",
    "    values = dataframe['ENTRIESn_hourly']\n",
    "\n",
    "    # Perform linear regression\n",
    "    intercept, params = linear_regression(features, values)\n",
    "    print 'intercept' ,intercept\n",
    "    print 'params', params\n",
    "    \n",
    "    predictions = intercept + np.dot(features, params)\n",
    "\n",
    "    return predictions\n",
    "\n",
    "mta_predictions = predictions(dataFrame)"
   ]
  },
  {
   "cell_type": "code",
   "execution_count": 32,
   "metadata": {
    "collapsed": false
   },
   "outputs": [
    {
     "data": {
      "text/plain": [
       "0.4580177557110864"
      ]
     },
     "execution_count": 32,
     "metadata": {},
     "output_type": "execute_result"
    }
   ],
   "source": [
    "import numpy as np\n",
    "import operator as op\n",
    "\n",
    "def compute_r_squared(data, predictions):\n",
    "\n",
    "    SST = ((data - np.mean(data))**2).sum()\n",
    "    SSReg = ((predictions - data)**2).sum()\n",
    "    r_squared = 1 - SSReg / SST\n",
    "    \n",
    "    return r_squared\n",
    "\n",
    "r2_value = compute_r_squared(dataFrame['ENTRIESn_hourly'], mta_predictions)\n",
    "r2_value"
   ]
  },
  {
   "cell_type": "code",
   "execution_count": null,
   "metadata": {
    "collapsed": true
   },
   "outputs": [],
   "source": []
  }
 ],
 "metadata": {
  "kernelspec": {
   "display_name": "Python 2",
   "language": "python",
   "name": "python2"
  },
  "language_info": {
   "codemirror_mode": {
    "name": "ipython",
    "version": 2
   },
   "file_extension": ".py",
   "mimetype": "text/x-python",
   "name": "python",
   "nbconvert_exporter": "python",
   "pygments_lexer": "ipython2",
   "version": "2.7.10"
  }
 },
 "nbformat": 4,
 "nbformat_minor": 0
}
